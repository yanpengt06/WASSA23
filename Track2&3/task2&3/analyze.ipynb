{
 "cells": [
  {
   "cell_type": "code",
   "execution_count": 1,
   "metadata": {},
   "outputs": [],
   "source": [
    "import pandas as pd\n",
    "# import matplotlib.pyplot as plt\n",
    "import json\n",
    "import random\n",
    "import jsonlines"
   ]
  },
  {
   "cell_type": "code",
   "execution_count": 3,
   "metadata": {},
   "outputs": [],
   "source": [
    "import json\n",
    "with open(\"../data/new_train.json\") as f:\n",
    "    raw_data = json.load(f)\n",
    "import random\n",
    "random.shuffle(raw_data)\n",
    "with open(\"../data/new_train.json\", 'w', encoding=\"utf-8\") as f:\n",
    "    json.dump(raw_data, f)"
   ]
  },
  {
   "cell_type": "code",
   "execution_count": 2,
   "metadata": {},
   "outputs": [],
   "source": [
    "train = pd.read_csv(\"../data/WASSA23_essay_level_with_emo_labels_train.tsv\", sep='\\t', header=0)\n",
    "train_essays = train[\"essay\"].tolist()\n",
    "train_empathy = train[\"empathy\"].tolist()\n",
    "train_distress = train[\"distress\"].tolist()\n",
    "train_emo = train[\"emotion\"].tolist()\n"
   ]
  },
  {
   "cell_type": "code",
   "execution_count": 3,
   "metadata": {},
   "outputs": [],
   "source": [
    "with open('/users10/zjli/workspace/WASSA/task2/result/ref/train_goldstandard.tsv', 'w') as f:\n",
    "    for emp, dis, emo in zip(train_empathy, train_distress, train_emo):\n",
    "        f.write(f'{emp}\\t{dis}\\t{emo}')\n",
    "        f.write('\\n')"
   ]
  },
  {
   "cell_type": "code",
   "execution_count": 10,
   "metadata": {},
   "outputs": [
    {
     "name": "stdout",
     "output_type": "stream",
     "text": [
      "[('Anger', 124), ('Disgust', 100), ('Fear', 33), ('Hope', 32), ('Joy', 10), ('Neutral', 240), ('Sadness', 383), ('Surprise', 19)]\n"
     ]
    }
   ],
   "source": [
    "emo_list = {}\n",
    "\n",
    "for item in train_emo:\n",
    "    item = item.split('/')\n",
    "    for e in item:\n",
    "        if e not in emo_list:\n",
    "            emo_list[e] = 1\n",
    "        else:\n",
    "            emo_list[e] += 1\n",
    "emo_list = sorted(emo_list.items(), key=lambda k: k[0])\n",
    "print(emo_list)\n",
    "                      "
   ]
  },
  {
   "cell_type": "code",
   "execution_count": 5,
   "metadata": {},
   "outputs": [
    {
     "name": "stdout",
     "output_type": "stream",
     "text": [
      "[('Anger', 67), ('Anger/Disgust', 28), ('Anger/Disgust/Sadness', 1), ('Anger/Fear', 1), ('Anger/Hope', 1), ('Anger/Joy', 1), ('Anger/Neutral', 8), ('Anger/Sadness', 14), ('Anger/Surprise', 3), ('Disgust', 44), ('Disgust/Fear', 2), ('Disgust/Neutral', 3), ('Disgust/Sadness', 18), ('Disgust/Surprise', 4), ('Fear', 10), ('Fear/Hope', 2), ('Fear/Neutral', 2), ('Fear/Sadness', 16), ('Hope', 10), ('Hope/Neutral', 4), ('Hope/Sadness', 15), ('Joy', 5), ('Joy/Neutral', 1), ('Joy/Sadness', 3), ('Neutral', 202), ('Neutral/Sadness', 18), ('Neutral/Surprise', 2), ('Sadness', 297), ('Sadness/Surprise', 1), ('Surprise', 9)]\n"
     ]
    }
   ],
   "source": [
    "emo_list = {}\n",
    "\n",
    "for item in train_emo:\n",
    "    \n",
    "    if item not in emo_list:\n",
    "        emo_list[item] = 1\n",
    "    else:\n",
    "        emo_list[item] += 1\n",
    "emo_list = sorted(emo_list.items(), key=lambda k: k[0])\n",
    "print(emo_list)\n",
    "                      "
   ]
  },
  {
   "cell_type": "code",
   "execution_count": 13,
   "metadata": {},
   "outputs": [
    {
     "name": "stdout",
     "output_type": "stream",
     "text": [
      "['Hope/Sadness', 'Anger', 'Sadness', 'Sadness', 'Neutral', 'Sadness', 'Sadness', 'Sadness', 'Sadness', 'Disgust/Sadness']\n",
      "[[0, 0, 0, 1, 0, 0, 1, 0], [1, 0, 0, 0, 0, 0, 0, 0], [0, 0, 0, 0, 0, 0, 1, 0], [0, 0, 0, 0, 0, 0, 1, 0], [0, 0, 0, 0, 0, 1, 0, 0], [0, 0, 0, 0, 0, 0, 1, 0], [0, 0, 0, 0, 0, 0, 1, 0], [0, 0, 0, 0, 0, 0, 1, 0], [0, 0, 0, 0, 0, 0, 1, 0], [0, 1, 0, 0, 0, 0, 1, 0]]\n"
     ]
    }
   ],
   "source": [
    "emo_labels = []\n",
    "for item in train_emo:\n",
    "    item = item.split('/')\n",
    "    emo_label = [0] * 8\n",
    "    for idx, e in enumerate(emo_list):\n",
    "        if e in item:\n",
    "            emo_label[idx] = 1\n",
    "    emo_labels.append(emo_label)"
   ]
  },
  {
   "cell_type": "code",
   "execution_count": 21,
   "metadata": {},
   "outputs": [],
   "source": [
    "p_train_essays = []\n",
    "for essay in train_essays:\n",
    "    essay = ' '.join(essay.split())\n",
    "    p_train_essays.append(essay)"
   ]
  },
  {
   "cell_type": "code",
   "execution_count": 22,
   "metadata": {},
   "outputs": [
    {
     "name": "stdout",
     "output_type": "stream",
     "text": [
      "Dear friend, I have recently finished reading an article about airstrikes that killed over 40 people and injured many more in Cairo. It is very heartbreaking to hear this news. I feel so bad for the people of the middle east who have to live every day of the their lives scared of missiles and bombs and gunfire.\n"
     ]
    }
   ],
   "source": [
    "print(p_train_essays[82])"
   ]
  },
  {
   "cell_type": "code",
   "execution_count": 23,
   "metadata": {},
   "outputs": [],
   "source": [
    "all_data = []\n",
    "\n",
    "for es, em, di, emo in zip(p_train_essays, train_empathy, train_distress, emo_labels):\n",
    "    all_data.append({\"essay\": es, \"empathy\": em, \"distress\":di, \"emotion\": emo})"
   ]
  },
  {
   "cell_type": "code",
   "execution_count": 24,
   "metadata": {},
   "outputs": [],
   "source": [
    "with open(\"../data/new_train.json\", 'w', encoding=\"utf-8\") as f:\n",
    "    json.dump(all_data, f)"
   ]
  },
  {
   "cell_type": "code",
   "execution_count": 5,
   "metadata": {},
   "outputs": [],
   "source": [
    "# 统计文章长度\n",
    "len_essays = [len(e.split(' ')) for e in train_essays]"
   ]
  },
  {
   "cell_type": "code",
   "execution_count": 6,
   "metadata": {},
   "outputs": [
    {
     "data": {
      "image/png": "[encoded data removed]",
      "text/plain": [
       "<Figure size 640x480 with 1 Axes>"
      ]
     },
     "metadata": {},
     "output_type": "display_data"
    }
   ],
   "source": [
    "def draw_length(len_essays):\n",
    "    # 绘制直方图\n",
    "    plt.hist(len_essays, bins=range(min(len_essays), max(len_essays) + 2), edgecolor=\"black\")\n",
    "\n",
    "    # 添加图形标签和标题\n",
    "    plt.xlabel(\"Length of Essay\")\n",
    "    plt.ylabel(\"Count\")\n",
    "    plt.title(\"Distribution of Essay Lengths\")\n",
    "\n",
    "    # 显示图形\n",
    "    plt.show()"
   ]
  },
  {
   "cell_type": "code",
   "execution_count": 6,
   "metadata": {},
   "outputs": [],
   "source": [
    "all_data = []\n",
    "\n",
    "for es, em, di in zip(train_essays, train_empathy, train_distress):\n",
    "    all_data.append({\"essay\": es, \"empathy\": em, \"distress\":di})\n",
    "\n",
    "random.shuffle(all_data)\n",
    "\n",
    "train_data = all_data[:int(0.75*len(all_data))]\n",
    "test_data = all_data[int(0.75*len(all_data)):]"
   ]
  },
  {
   "cell_type": "code",
   "execution_count": 8,
   "metadata": {},
   "outputs": [],
   "source": [
    "with open(\"../data/train.json\", 'w', encoding=\"utf-8\") as f:\n",
    "    json.dump(train_data, f)\n",
    "    \n",
    "with open(\"../data/test.json\", 'w', encoding=\"utf-8\") as f:\n",
    "    json.dump(test_data, f)"
   ]
  },
  {
   "cell_type": "code",
   "execution_count": 6,
   "metadata": {},
   "outputs": [],
   "source": [
    "dev = pd.read_csv(\"../data/WASSA23_essay_level_dev.tsv\", sep='\\t', header=0)\n",
    "dev_essays = dev[\"essay\"].tolist()\n",
    "\n",
    "dev_label = pd.read_csv(\"../data/goldstandard_dev_with_emo.tsv\", sep='\\t', header=None)"
   ]
  },
  {
   "cell_type": "code",
   "execution_count": 7,
   "metadata": {},
   "outputs": [],
   "source": [
    "dev_empathy = dev_label[0].tolist()\n",
    "dev_distress = dev_label[1].tolist()\n",
    "dev_emotion = dev_label[2].tolist()"
   ]
  },
  {
   "cell_type": "code",
   "execution_count": 8,
   "metadata": {},
   "outputs": [
    {
     "name": "stdout",
     "output_type": "stream",
     "text": [
      "[('Anger', 23), ('Anger/Disgust', 7), ('Anger/Neutral', 1), ('Anger/Sadness', 7), ('Disgust', 11), ('Disgust/Hope', 1), ('Disgust/Sadness', 5), ('Fear', 6), ('Fear/Sadness', 2), ('Hope', 6), ('Hope/Neutral', 2), ('Hope/Sadness', 7), ('Joy', 2), ('Neutral', 47), ('Neutral/Sadness', 3), ('Neutral/Surprise', 1), ('Sadness', 75), ('Sadness/Surprise', 2)]\n"
     ]
    }
   ],
   "source": [
    "emo_list = {}\n",
    "\n",
    "for item in dev_emotion:\n",
    "    \n",
    "    if item not in emo_list:\n",
    "        emo_list[item] = 1\n",
    "    else:\n",
    "        emo_list[item] += 1\n",
    "emo_list = sorted(emo_list.items(), key=lambda k: k[0])\n",
    "print(emo_list)"
   ]
  },
  {
   "cell_type": "code",
   "execution_count": 28,
   "metadata": {},
   "outputs": [],
   "source": [
    "p_dev_essays = []\n",
    "for essay in dev_essays:\n",
    "    essay = ' '.join(essay.split())\n",
    "    p_dev_essays.append(essay)"
   ]
  },
  {
   "cell_type": "code",
   "execution_count": 29,
   "metadata": {},
   "outputs": [],
   "source": [
    "d_emo_labels = []\n",
    "for item in dev_emotion:\n",
    "    item = item.split('/')\n",
    "    emo_label = [0] * 8\n",
    "    for idx, e in enumerate(emo_list):\n",
    "        if e in item:\n",
    "            emo_label[idx] = 1\n",
    "    d_emo_labels.append(emo_label)"
   ]
  },
  {
   "cell_type": "code",
   "execution_count": null,
   "metadata": {},
   "outputs": [],
   "source": [
    "dev_data = []\n",
    "\n",
    "for es, em, di, emo in zip(p_dev_essays, dev_empathy, dev_distress, d_emo_labels):\n",
    "    dev_data.append({\"essay\": es, \"empathy\": em, \"distress\":di, \"emotion\": emo})\n",
    "    \n",
    "with open(\"../data/new_dev.json\", 'w', encoding=\"utf-8\") as f:\n",
    "    json.dump(dev_data, f)"
   ]
  },
  {
   "cell_type": "code",
   "execution_count": 18,
   "metadata": {},
   "outputs": [],
   "source": [
    "assert len(dev_label) == len(dev_empathy) == len(dev_distress)"
   ]
  },
  {
   "cell_type": "code",
   "execution_count": 19,
   "metadata": {},
   "outputs": [],
   "source": [
    "dev_data = []\n",
    "for es, em, di in zip(dev_essays, dev_empathy, dev_distress):\n",
    "    dev_data.append({\"essay\": es, \"empathy\": em, \"distress\":di})"
   ]
  },
  {
   "cell_type": "code",
   "execution_count": null,
   "metadata": {},
   "outputs": [],
   "source": [
    "with open(\"../data/dev.json\", 'w', encoding=\"utf-8\") as f:\n",
    "    json.dump(dev_data, f)"
   ]
  },
  {
   "cell_type": "code",
   "execution_count": null,
   "metadata": {},
   "outputs": [],
   "source": [
    "def log_analysis(log_path):\n",
    "    valid_pearsons = []\n",
    "    test_pearson = 0\n",
    "    with open(log_path) as f:\n",
    "        for line in f.readlines():\n",
    "            if \"Valid\" in line:\n",
    "                line = line.split(\"pearson:\")\n",
    "                valid_pearsons.append(float(line[-1]))\n",
    "            if \"Test\" in line:\n",
    "                line = line.split(\"pearson:\")\n",
    "                test_pearson = float(line[-1])\n",
    "    return valid_pearsons, test_pearson\n",
    "        "
   ]
  },
  {
   "cell_type": "code",
   "execution_count": 4,
   "metadata": {},
   "outputs": [],
   "source": [
    "\n",
    "for split in [\"train\", \"dev\", \"test\"]:\n",
    "    with open(f\"../data/{split}.json\") as f:\n",
    "        data = json.load(f)\n",
    "    empathy_list, distress_list = [], []    \n",
    "    for item in data:\n",
    "        empathy_tmp = {\"translation\": {\"label\": str(item[\"empathy\"]), \"input\":item[\"essay\"]}}\n",
    "        distress_tmp = {\"translation\": {\"label\": str(item[\"distress\"]), \"input\":item[\"essay\"]}}\n",
    "        \n",
    "        empathy_list.append(empathy_tmp)\n",
    "        distress_list.append(distress_tmp)\n",
    "        \n",
    "    with jsonlines.open(f\"../data/t5/empathy_{split}.jsonl\", 'w') as f:\n",
    "        for item in empathy_list:\n",
    "            f.write(item)\n",
    "\n",
    "    with jsonlines.open(f\"../data/t5/distress_{split}.jsonl\", 'w') as f:\n",
    "        for item in distress_list:\n",
    "            f.write(item)\n",
    "        "
   ]
  },
  {
   "cell_type": "code",
   "execution_count": 8,
   "metadata": {},
   "outputs": [
    {
     "name": "stdout",
     "output_type": "stream",
     "text": [
      "594\n",
      "198\n",
      "208\n"
     ]
    }
   ],
   "source": [
    "for split in [\"train\", \"dev\", \"test\"]:\n",
    "    with open(f\"../data/{split}.json\") as f:\n",
    "        data = json.load(f)\n",
    "    empathy_list, distress_list = [], []    \n",
    "    for item in data:\n",
    "        empathy_tmp = {\"label\": item[\"empathy\"], \"essay\":item[\"essay\"]}\n",
    "        distress_tmp = {\"label\": item[\"distress\"], \"essay\":item[\"essay\"]}\n",
    "        \n",
    "        empathy_list.append(empathy_tmp)\n",
    "        distress_list.append(distress_tmp)\n",
    "        \n",
    "    print(len(empathy_list))\n",
    "        \n",
    "    with jsonlines.open(f\"../data/deberta/empathy_{split}.jsonl\", 'w') as f:\n",
    "        for item in empathy_list:\n",
    "            f.write(item)\n",
    "\n",
    "    with jsonlines.open(f\"../data/deberta/distress_{split}.jsonl\", 'w') as f:\n",
    "        for item in distress_list:\n",
    "            f.write(item)\n",
    "        "
   ]
  },
  {
   "cell_type": "code",
   "execution_count": 8,
   "metadata": {},
   "outputs": [
    {
     "name": "stdout",
     "output_type": "stream",
     "text": [
      "792\n",
      "208\n"
     ]
    }
   ],
   "source": [
    "emo_labels = ['Anger', 'Disgust', 'Fear', 'Hope', 'Joy', 'Neutral', 'Sadness', 'Surprise']\n",
    "\n",
    "for split in [\"train\", \"dev\"]:\n",
    "    with open(f\"../data/new_{split}.json\") as f:\n",
    "        data = json.load(f)\n",
    "    emotion_list = []  \n",
    "    for item in data:\n",
    "        emotion_tmp = {\"label\": [x for x,y in zip(emo_labels, item[\"emotion\"]) if y == 1], \"essay\":item[\"essay\"]}\n",
    "        \n",
    "        emotion_list.append(emotion_tmp)\n",
    "        \n",
    "    print(len(emotion_list))\n",
    "        \n",
    "\n",
    "\n",
    "    with jsonlines.open(f\"../data/deberta/emotion_{split}.jsonl\", 'w') as f:\n",
    "        for item in emotion_list:\n",
    "            f.write(item)"
   ]
  },
  {
   "cell_type": "code",
   "execution_count": 4,
   "metadata": {},
   "outputs": [],
   "source": [
    "def log_analysis(log_path):\n",
    "    valid_pearsons = []\n",
    "    test_pearson = 0\n",
    "    with open(log_path) as f:\n",
    "        for line in f.readlines():\n",
    "            if \"Valid\" in line:\n",
    "                line = line.split(\"pearson:\")\n",
    "                valid_pearsons.append(float(line[-1]))\n",
    "            if \"Test\" in line:\n",
    "                line = line.split(\"pearson:\")\n",
    "                test_pearson = float(line[-1])\n",
    "            if \"{'_items': \" in line:\n",
    "                line = line.split(\"{'_items': \")\n",
    "                para_str = line[1].split(\", 'task':\")[0]+'}'\n",
    "                para = eval(para_str)\n",
    "            elif \"__init__\" in line:\n",
    "                line = line.split(\"{\")\n",
    "                para_str = '{' + line[1]\n",
    "                para = eval(para_str)\n",
    "                \n",
    "    return max(valid_pearsons) if valid_pearsons else 0, test_pearson, para"
   ]
  },
  {
   "cell_type": "code",
   "execution_count": 2,
   "metadata": {},
   "outputs": [],
   "source": [
    "import os"
   ]
  },
  {
   "cell_type": "code",
   "execution_count": 13,
   "metadata": {},
   "outputs": [
    {
     "name": "stdout",
     "output_type": "stream",
     "text": [
      "{'valid_p': 0.6748, 'test_p': 0.5973, 'parameter': {'batch_size': 16, 'dropout': 0, 'model_name': 0, 'other_learning_rate': 0.0004, 'plm_learning_rate': 5e-05}}\n",
      "{'valid_p': 0.6924, 'test_p': 0.588, 'parameter': {'num_labels': 4, 'task': 'distress', 'dropout': 0.3, 'n_gpu': 1, 'batch_size': 8, 'epochs': 6, 'log_interval': 20, 'seed': 5678, 'accumulation_steps': 1, 'warmup_proportion': 0.1, 'resume': None, 'plm_model_name': '/users10/zjli/plm-models/english/roberta/roberta-base', 'save_model_dir': './checkpoints/5678/distress/roberta-base/', 'save_model_name': 'best_1679213366.1429396.pt', 'log_dir': './logs/5678/distress/roberta-base/', 'log_save_name': 'log_1679213366.1429396.log', 'data_path': '../data/', 'cache_path': './cache/', 'result_dir': './result/', 'plm_learning_rate': 5e-05, 'other_learning_rate': 0.0003, 'do_train': True, 'do_test': True, 'demo': False, 'update_cache': False, 'use_wandb': False}}\n",
      "{'valid_p': 0.6769, 'test_p': 0.5755, 'parameter': {'batch_size': 16, 'dropout': 0, 'model_name': 0, 'other_learning_rate': 0.0005, 'plm_learning_rate': 4e-05}}\n",
      "{'valid_p': 0.6744, 'test_p': 0.5745, 'parameter': {'batch_size': 16, 'dropout': 0, 'model_name': 0, 'other_learning_rate': 0.0004, 'plm_learning_rate': 4e-05}}\n",
      "{'valid_p': 0.6915, 'test_p': 0.5647, 'parameter': {'batch_size': 8, 'dropout': 0.3, 'model_name': 0, 'other_learning_rate': 0.0004, 'plm_learning_rate': 4e-05}}\n",
      "{'valid_p': 0.6958, 'test_p': 0.5608, 'parameter': {'batch_size': 8, 'dropout': 0.3, 'model_name': 0, 'other_learning_rate': 0.0003, 'plm_learning_rate': 5e-05}}\n",
      "{'valid_p': 0.6941, 'test_p': 0.5578, 'parameter': {'batch_size': 16, 'dropout': 0.3, 'model_name': 0, 'other_learning_rate': 0.0003, 'plm_learning_rate': 4e-05}}\n",
      "{'valid_p': 0.6833, 'test_p': 0.5567, 'parameter': {'batch_size': 8, 'dropout': 0.3, 'model_name': 0, 'other_learning_rate': 0.0004, 'plm_learning_rate': 5e-05}}\n",
      "{'valid_p': 0.6968, 'test_p': 0.5551, 'parameter': {'batch_size': 16, 'dropout': 0.5, 'model_name': 0, 'other_learning_rate': 0.0004, 'plm_learning_rate': 5e-05}}\n",
      "{'valid_p': 0.6577, 'test_p': 0.5551, 'parameter': {'num_labels': 4, 'task': 'distress', 'dropout': 0.5, 'n_gpu': 1, 'batch_size': 16, 'epochs': 6, 'log_interval': 20, 'seed': 5678, 'accumulation_steps': 1, 'warmup_proportion': 0.1, 'resume': None, 'plm_model_name': '/users10/zjli/plm-models/english/roberta/roberta-base', 'save_model_dir': './checkpoints/5678/distress/roberta-base/', 'save_model_name': 'best_1679215470.2153263.pt', 'log_dir': './logs/5678/distress/roberta-base/', 'log_save_name': 'log_1679215470.2153263.log', 'data_path': '../data/', 'cache_path': './cache/', 'result_dir': './result/', 'plm_learning_rate': 5e-05, 'other_learning_rate': 0.0004, 'do_train': True, 'do_test': True, 'demo': False, 'update_cache': False, 'use_wandb': False}}\n"
     ]
    }
   ],
   "source": [
    "seeds = [1234, 5678, 9101112, 13141516, 17181920]\n",
    "task = \"distress\"\n",
    "model_name = \"roberta-base\"\n",
    "res = []\n",
    "for seed in seeds:\n",
    "    filelist = os.listdir(f\"./logs/{seed}/{task}/{model_name}/\")\n",
    "    for item in filelist:\n",
    "        if item.endswith(\".log\"):\n",
    "            vp, tp, para = log_analysis(f\"./logs/{seed}/{task}/{model_name}/{item}\")\n",
    "            res.append({\"valid_p\": vp, \"test_p\": tp, \"parameter\": para})\n",
    "            # print(f\"valid_p: {vp}, test_p: {tp}, parameter: {para}\")\n",
    "    res = sorted(res, key=lambda k:k[\"test_p\"], reverse=True)\n",
    "for item in res[:10]:\n",
    "    print(item)"
   ]
  },
  {
   "cell_type": "code",
   "execution_count": 4,
   "metadata": {},
   "outputs": [],
   "source": [
    "import re\n",
    "def text_clean(x):\n",
    "\n",
    "    ### Light\n",
    "    x = x.lower() # lowercase everything\n",
    "    x = x.encode('ascii', 'ignore').decode()  # remove unicode characters\n",
    "    x = re.sub(r'https*\\S+', ' ', x) # remove links\n",
    "    x = re.sub(r'http*\\S+', ' ', x)\n",
    "    # cleaning up text\n",
    "    x = re.sub(r'\\'\\w+', '', x) \n",
    "    x = re.sub(r'\\w*\\d+\\w*', '', x)\n",
    "    x = re.sub(r'\\s{2,}', ' ', x)\n",
    "    x = re.sub(r'\\s[^\\w\\s]\\s', '', x)\n",
    "    return x"
   ]
  },
  {
   "cell_type": "code",
   "execution_count": 5,
   "metadata": {},
   "outputs": [
    {
     "name": "stdout",
     "output_type": "stream",
     "text": [
      "It's crazy that random accidents like this happen everyday. I am not a baseball fan but of course enjoy a baseball game every now and again. I lived and worked in Miami too so I am vaguely familiar with that baseball player who unfortunately passed away. The effort to save him was great but unfortunately bad things seem to happen every day. He was so young too so it makes it worse.\n",
      "it crazy that random accidents like this happen everyday. i am not a baseball fan but of course enjoy a baseball game every now and again. i lived and worked in miami too so i am vaguely familiar with that baseball player who unfortunately passed away. the effort to save him was great but unfortunately bad things seem to happen every day. he was so young too so it makes it worse.\n"
     ]
    }
   ],
   "source": [
    "text = \"It's crazy that random accidents like this happen everyday. I am not a baseball fan but of course enjoy a baseball game every now and again. I lived and worked in Miami too so I am vaguely familiar with that baseball player who unfortunately passed away. The effort to save him was great but unfortunately bad things seem to happen every day. He was so young too so it makes it worse.\"\n",
    "print(text)\n",
    "print(text_clean(text))\n"
   ]
  },
  {
   "cell_type": "code",
   "execution_count": 6,
   "metadata": {},
   "outputs": [
    {
     "name": "stderr",
     "output_type": "stream",
     "text": [
      "/users10/zjli/miniconda3/lib/python3.8/site-packages/tqdm/auto.py:22: TqdmWarning: IProgress not found. Please update jupyter and ipywidgets. See https://ipywidgets.readthedocs.io/en/stable/user_install.html\n",
      "  from .autonotebook import tqdm as notebook_tqdm\n"
     ]
    },
    {
     "name": "stdout",
     "output_type": "stream",
     "text": [
      "{'should', 'unless', 'since', 'side', 'over', 'how', 'upon', 'has', 'enough', 'into', 'herself', 'them', 'cannot', 'may', 'next', '‘re', '’d', 'that', 'us', 'anywhere', 'therefore', 'n‘t', 'hereafter', 'such', \"'m\", '’ve', 'however', 'him', 'whole', 'anything', 'whereas', 'other', 'nevertheless', 'mine', 'besides', 'serious', 'again', 'nobody', 'more', 'of', 'for', 'from', 'less', 'why', 'if', 'hundred', 'might', 'amongst', 'somewhere', 'put', 'amount', '‘d', 'will', 'take', 'is', 'call', 'whence', 'alone', 'you', 'or', 'someone', 'well', 'between', 'regarding', 'neither', 'both', 'quite', 'am', 'whenever', 'thru', 'whereby', 'full', 'eleven', 'sometimes', 'latterly', 'whoever', 'really', 'whether', 'these', 'being', 'give', '‘s', 'along', 'many', 'n’t', 'make', 'each', 'her', 'behind', 'three', 'wherein', 'only', 'do', 'while', 'down', 'seeming', 'few', 'until', 'during', 'doing', 'becomes', 'show', 'front', 'to', 'hers', \"'ll\", 'thereupon', 'third', 'thence', 'ten', 'could', 'already', 'whereupon', 'but', 'about', 'been', 'although', 'own', 'which', 'those', 'its', 'elsewhere', 'seemed', 'some', '’m', 'nine', 'beyond', 'through', 'in', 'due', 'within', 'too', 'either', 'then', 'off', 'least', 'had', \"'ve\", 'yet', 'twelve', 'something', 'as', 'among', 'nor', 'thus', 'not', 'otherwise', 'did', 'herein', 'be', 'nothing', 'my', 'just', 'top', 'than', 'made', 'what', \"'s\", 'get', 'six', 'above', 'by', 'using', 'all', 'an', '‘ll', 'various', 'she', 'except', 'indeed', 'namely', 'under', '’ll', 'toward', 'any', 'have', 'nowhere', 'say', 'are', 'his', 'last', 'move', 'also', 'must', 'another', 'their', 'empty', 'please', 'towards', 'part', 'so', 'they', 'itself', 'anyone', 'never', 'ours', 'thereby', '‘m', 'wherever', 'here', 'fifty', 'and', 'hereby', 'ca', 'afterwards', 'keep', 'mostly', 'across', 'onto', 'somehow', 'formerly', 'very', 'around', 'was', 'no', 'per', 'always', 'at', 'up', 'himself', 'even', 'yourselves', 'yourself', 'moreover', 'seems', 'themselves', 'bottom', \"'d\", 'latter', 'there', 'every', 'i', 'whereafter', 'rather', 'sixty', 'were', 'can', 'therein', 'hence', 'whose', 'though', 'almost', 'it', 'via', 'whom', 'meanwhile', 'forty', 'because', 'four', '‘ve', \"n't\", 'perhaps', 'noone', 'used', '’re', 'with', 'else', 'back', 'your', 'becoming', 'against', 'on', 'go', 'thereafter', 'anyway', 'former', 'two', 'often', 'this', 'beforehand', 'done', 'see', 'others', 'become', 'whither', 'would', 'further', 'still', 'most', 'below', 'several', 'beside', 'he', 'sometime', 'throughout', 'where', 'when', 'our', 'one', 'five', 'once', 're', 'none', 'eight', 'name', 'we', 'same', 'who', 'together', 'me', 'everywhere', 'without', 'whatever', \"'re\", 'fifteen', '’s', 'does', 'after', 'everyone', 'hereupon', 'out', 'the', 'anyhow', 'ourselves', 'much', 'ever', 'twenty', 'yours', 'myself', 'became', 'before', 'first', 'seem', 'everything', 'now', 'a'}\n",
      "It's crazy random accidents like happen everyday. baseball fan course enjoy baseball game again. lived worked Miami vaguely familiar baseball player unfortunately passed away. effort save great unfortunately bad things happen day. young makes worse.\n",
      "Old length:  384\n",
      "New length:  249\n"
     ]
    }
   ],
   "source": [
    "import spacy\n",
    "#loading the english language small model of spacy\n",
    "en = spacy.load('en_core_web_sm')\n",
    "sw_spacy = en.Defaults.stop_words\n",
    "print(sw_spacy)\n",
    "words = [word for word in text.split() if word.lower() not in sw_spacy]\n",
    "new_text = \" \".join(words)\n",
    "print(new_text)\n",
    "print(\"Old length: \", len(text))\n",
    "print(\"New length: \", len(new_text))"
   ]
  },
  {
   "cell_type": "code",
   "execution_count": 7,
   "metadata": {},
   "outputs": [],
   "source": [
    "def text_clean(text):\n",
    "    words = [word for word in text.split() if word.lower() not in sw_spacy]\n",
    "    new_text = \" \".join(words)\n",
    "    return new_text"
   ]
  },
  {
   "cell_type": "code",
   "execution_count": 10,
   "metadata": {},
   "outputs": [],
   "source": [
    "result = []\n",
    "from copy import deepcopy\n",
    "import json\n",
    "with open(\"../data/new_dev.json\") as f:\n",
    "    raw_data = json.load(f)\n",
    "    for item in raw_data:\n",
    "        new_item = deepcopy(item)\n",
    "        essay = text_clean(item[\"essay\"])\n",
    "        new_item[\"essay\"] = essay\n",
    "        result.append(new_item)\n",
    "        \n",
    "with open(\"../data/non_stopwords_new_dev.json\", 'w') as f:\n",
    "    json.dump(result, f)"
   ]
  },
  {
   "cell_type": "code",
   "execution_count": null,
   "metadata": {},
   "outputs": [],
   "source": [
    "def gumbel_softmax(logits: Tensor, tau: float = 1, hard: bool = False, eps: float = 1e-10, dim: int = -1) -> Tensor:\n",
    "    r\"\"\"\n",
    "    Samples from the Gumbel-Softmax distribution (`Link 1`_  `Link 2`_) and optionally discretizes.\n",
    "\n",
    "    Args:\n",
    "      logits: `[..., num_features]` unnormalized log probabilities\n",
    "      tau: non-negative scalar temperature\n",
    "      hard: if ``True``, the returned samples will be discretized as one-hot vectors,\n",
    "            but will be differentiated as if it is the soft sample in autograd\n",
    "      dim (int): A dimension along which softmax will be computed. Default: -1.\n",
    "\n",
    "    Returns:\n",
    "      Sampled tensor of same shape as `logits` from the Gumbel-Softmax distribution.\n",
    "      If ``hard=True``, the returned samples will be one-hot, otherwise they will\n",
    "      be probability distributions that sum to 1 across `dim`.\n",
    "\n",
    "    .. note::\n",
    "      This function is here for legacy reasons, may be removed from nn.Functional in the future.\n",
    "\n",
    "    .. note::\n",
    "      The main trick for `hard` is to do  `y_hard - y_soft.detach() + y_soft`\n",
    "\n",
    "      It achieves two things:\n",
    "      - makes the output value exactly one-hot\n",
    "      (since we add then subtract y_soft value)\n",
    "      - makes the gradient equal to y_soft gradient\n",
    "      (since we strip all other gradients)\n",
    "\n",
    "    Examples::\n",
    "        >>> logits = torch.randn(20, 32)\n",
    "        >>> # Sample soft categorical using reparametrization trick:\n",
    "        >>> F.gumbel_softmax(logits, tau=1, hard=False)\n",
    "        >>> # Sample hard categorical using \"Straight-through\" trick:\n",
    "        >>> F.gumbel_softmax(logits, tau=1, hard=True)\n",
    "\n",
    "    .. _Link 1:\n",
    "        https://arxiv.org/abs/1611.00712\n",
    "    .. _Link 2:\n",
    "        https://arxiv.org/abs/1611.01144\n",
    "    \"\"\"\n",
    "    if has_torch_function_unary(logits):\n",
    "        return handle_torch_function(gumbel_softmax, (logits,), logits, tau=tau, hard=hard, eps=eps, dim=dim)\n",
    "    if eps != 1e-10:\n",
    "        warnings.warn(\"`eps` parameter is deprecated and has no effect.\")\n",
    "\n",
    "    gumbels = (\n",
    "        -torch.empty_like(logits, memory_format=torch.legacy_contiguous_format).exponential_().log()\n",
    "    )  # ~Gumbel(0,1)\n",
    "    gumbels = (logits + gumbels) / tau  # ~Gumbel(logits,tau)\n",
    "    y_soft = gumbels.softmax(dim)\n",
    "\n",
    "    if hard:\n",
    "        # Straight through.\n",
    "        index = y_soft.max(dim, keepdim=True)[1]\n",
    "        y_hard = torch.zeros_like(logits, memory_format=torch.legacy_contiguous_format).scatter_(dim, index, 1.0)\n",
    "        ret = y_hard - y_soft.detach() + y_soft\n",
    "    else:\n",
    "        # Reparametrization trick.\n",
    "        ret = y_soft\n",
    "    return ret"
   ]
  },
  {
   "cell_type": "code",
   "execution_count": 1,
   "metadata": {},
   "outputs": [
    {
     "name": "stdout",
     "output_type": "stream",
     "text": [
      "208\n",
      "50\n",
      "89\n"
     ]
    }
   ],
   "source": [
    "import json\n",
    "\n",
    "with open(\"./pred/neu_predictions_emotion.json\") as f:\n",
    "    pred = json.load(f)\n",
    "    \n",
    "with open(\"../data/new_dev.json\") as f:\n",
    "    true = json.load(f)\n",
    "    \n",
    "assert len(pred) == len(true)\n",
    "\n",
    "print(len(pred))\n",
    "true_pos = 0\n",
    "pred1 = 0\n",
    "true_label = []\n",
    "for p, t in zip(pred, true):\n",
    "    true_label.append(t['neutral'])\n",
    "    if p == 1:\n",
    "        pred1 += 1\n",
    "    if t['neutral'] == 1 and p == 1:\n",
    "        true_pos += 1\n",
    "\n",
    "\n",
    "print(true_pos)\n",
    "print(pred1)"
   ]
  },
  {
   "cell_type": "code",
   "execution_count": 3,
   "metadata": {},
   "outputs": [
    {
     "name": "stdout",
     "output_type": "stream",
     "text": [
      "[0, 1, 0, 0, 0, 1, 1, 1, 1, 0]\n",
      "[0, 0, 0, 1, 0, 0, 1, 0, 0, 1]\n"
     ]
    }
   ],
   "source": [
    "print(pred[:10])\n",
    "print(true_label[:10])"
   ]
  }
 ],
 "metadata": {
  "kernelspec": {
   "display_name": "base",
   "language": "python",
   "name": "python3"
  },
  "language_info": {
   "codemirror_mode": {
    "name": "ipython",
    "version": 3
   },
   "file_extension": ".py",
   "mimetype": "text/x-python",
   "name": "python",
   "nbconvert_exporter": "python",
   "pygments_lexer": "ipython3",
   "version": "3.8.10"
  },
  "orig_nbformat": 4
 },
 "nbformat": 4,
 "nbformat_minor": 2
}
